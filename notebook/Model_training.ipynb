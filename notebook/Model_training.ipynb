{
 "cells": [
  {
   "cell_type": "code",
   "execution_count": 1,
   "id": "230a7fd6-0e45-4399-a5c9-97f4dd6a46ce",
   "metadata": {},
   "outputs": [],
   "source": [
    "from sklearn.linear_model import Lasso\n"
   ]
  },
  {
   "cell_type": "code",
   "execution_count": 3,
   "id": "1019b07e-dcdb-429c-bc3d-ae0884ab8be0",
   "metadata": {},
   "outputs": [
    {
     "name": "stdout",
     "output_type": "stream",
     "text": [
      "Collecting catboost\n",
      "  Using cached catboost-1.2.8-cp313-cp313-manylinux2014_x86_64.whl.metadata (1.4 kB)\n",
      "Collecting xgboost\n",
      "  Downloading xgboost-3.1.0-py3-none-manylinux_2_28_x86_64.whl.metadata (2.1 kB)\n",
      "Collecting graphviz (from catboost)\n",
      "  Using cached graphviz-0.21-py3-none-any.whl.metadata (12 kB)\n",
      "Requirement already satisfied: matplotlib in /home/eru/Ml-project/project-1/venv/lib/python3.13/site-packages (from catboost) (3.10.7)\n",
      "Requirement already satisfied: numpy<3.0,>=1.16.0 in /home/eru/Ml-project/project-1/venv/lib/python3.13/site-packages (from catboost) (2.3.4)\n",
      "Requirement already satisfied: pandas>=0.24 in /home/eru/Ml-project/project-1/venv/lib/python3.13/site-packages (from catboost) (2.3.3)\n",
      "Requirement already satisfied: scipy in /home/eru/Ml-project/project-1/venv/lib/python3.13/site-packages (from catboost) (1.16.2)\n",
      "Collecting plotly (from catboost)\n",
      "  Downloading plotly-6.3.1-py3-none-any.whl.metadata (8.5 kB)\n",
      "Requirement already satisfied: six in /home/eru/Ml-project/project-1/venv/lib/python3.13/site-packages (from catboost) (1.17.0)\n",
      "Collecting nvidia-nccl-cu12 (from xgboost)\n",
      "  Using cached nvidia_nccl_cu12-2.28.3-py3-none-manylinux_2_18_x86_64.whl.metadata (2.0 kB)\n",
      "Requirement already satisfied: python-dateutil>=2.8.2 in /home/eru/Ml-project/project-1/venv/lib/python3.13/site-packages (from pandas>=0.24->catboost) (2.9.0.post0)\n",
      "Requirement already satisfied: pytz>=2020.1 in /home/eru/Ml-project/project-1/venv/lib/python3.13/site-packages (from pandas>=0.24->catboost) (2025.2)\n",
      "Requirement already satisfied: tzdata>=2022.7 in /home/eru/Ml-project/project-1/venv/lib/python3.13/site-packages (from pandas>=0.24->catboost) (2025.2)\n",
      "Requirement already satisfied: contourpy>=1.0.1 in /home/eru/Ml-project/project-1/venv/lib/python3.13/site-packages (from matplotlib->catboost) (1.3.3)\n",
      "Requirement already satisfied: cycler>=0.10 in /home/eru/Ml-project/project-1/venv/lib/python3.13/site-packages (from matplotlib->catboost) (0.12.1)\n",
      "Requirement already satisfied: fonttools>=4.22.0 in /home/eru/Ml-project/project-1/venv/lib/python3.13/site-packages (from matplotlib->catboost) (4.60.1)\n",
      "Requirement already satisfied: kiwisolver>=1.3.1 in /home/eru/Ml-project/project-1/venv/lib/python3.13/site-packages (from matplotlib->catboost) (1.4.9)\n",
      "Requirement already satisfied: packaging>=20.0 in /home/eru/Ml-project/project-1/venv/lib/python3.13/site-packages (from matplotlib->catboost) (25.0)\n",
      "Requirement already satisfied: pillow>=8 in /home/eru/Ml-project/project-1/venv/lib/python3.13/site-packages (from matplotlib->catboost) (12.0.0)\n",
      "Requirement already satisfied: pyparsing>=3 in /home/eru/Ml-project/project-1/venv/lib/python3.13/site-packages (from matplotlib->catboost) (3.2.5)\n",
      "Collecting narwhals>=1.15.1 (from plotly->catboost)\n",
      "  Downloading narwhals-2.8.0-py3-none-any.whl.metadata (11 kB)\n",
      "Using cached catboost-1.2.8-cp313-cp313-manylinux2014_x86_64.whl (99.2 MB)\n",
      "Downloading xgboost-3.1.0-py3-none-manylinux_2_28_x86_64.whl (115.9 MB)\n",
      "\u001b[2K   \u001b[38;2;114;156;31m━━━━━━━━━━━━━━━━━━━━━━━━━━━━━━━━━━━━━━━━\u001b[0m \u001b[32m115.9/115.9 MB\u001b[0m \u001b[31m7.0 MB/s\u001b[0m  \u001b[33m0:00:17\u001b[0m\u001b[0m eta \u001b[36m0:00:01\u001b[0m0:01\u001b[0m:02\u001b[0m\n",
      "\u001b[?25hUsing cached graphviz-0.21-py3-none-any.whl (47 kB)\n",
      "Using cached nvidia_nccl_cu12-2.28.3-py3-none-manylinux_2_18_x86_64.whl (295.9 MB)\n",
      "Downloading plotly-6.3.1-py3-none-any.whl (9.8 MB)\n",
      "\u001b[2K   \u001b[38;2;114;156;31m━━━━━━━━━━━━━━━━━━━━━━━━━━━━━━━━━━━━━━━━\u001b[0m \u001b[32m9.8/9.8 MB\u001b[0m \u001b[31m12.0 MB/s\u001b[0m  \u001b[33m0:00:00\u001b[0ma \u001b[36m0:00:01\u001b[0mm eta \u001b[36m0:00:01\u001b[0m\n",
      "\u001b[?25hDownloading narwhals-2.8.0-py3-none-any.whl (415 kB)\n",
      "Installing collected packages: nvidia-nccl-cu12, narwhals, graphviz, xgboost, plotly, catboost\n",
      "\u001b[2K   \u001b[38;2;114;156;31m━━━━━━━━━━━━━━━━━━━━━━━━━━━━━━━━━━━━━━━━\u001b[0m \u001b[32m6/6\u001b[0m [catboost]━━\u001b[0m \u001b[32m5/6\u001b[0m [catboost]otly]s]\n",
      "\u001b[1A\u001b[2KSuccessfully installed catboost-1.2.8 graphviz-0.21 narwhals-2.8.0 nvidia-nccl-cu12-2.28.3 plotly-6.3.1 xgboost-3.1.0\n",
      "Note: you may need to restart the kernel to use updated packages.\n"
     ]
    }
   ],
   "source": [
    "pip install catboost xgboost"
   ]
  },
  {
   "cell_type": "code",
   "execution_count": null,
   "id": "481e0597-fc7d-430d-b9d6-abf858ecd84e",
   "metadata": {},
   "outputs": [],
   "source": []
  },
  {
   "cell_type": "code",
   "execution_count": null,
   "id": "3823c7b7-7208-41a1-b5c4-e62913be428e",
   "metadata": {},
   "outputs": [],
   "source": []
  }
 ],
 "metadata": {
  "kernelspec": {
   "display_name": "venv",
   "language": "python",
   "name": "venv"
  },
  "language_info": {
   "codemirror_mode": {
    "name": "ipython",
    "version": 3
   },
   "file_extension": ".py",
   "mimetype": "text/x-python",
   "name": "python",
   "nbconvert_exporter": "python",
   "pygments_lexer": "ipython3",
   "version": "3.13.7"
  }
 },
 "nbformat": 4,
 "nbformat_minor": 5
}
